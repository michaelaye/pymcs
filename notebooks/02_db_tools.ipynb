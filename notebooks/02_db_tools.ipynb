{
 "cells": [
  {
   "cell_type": "code",
   "execution_count": 1,
   "metadata": {},
   "outputs": [],
   "source": [
    "# default_exp db_tools"
   ]
  },
  {
   "cell_type": "markdown",
   "metadata": {},
   "source": [
    "# db_tools\n",
    "> These are some interface helpers to work with LASP's MCS database"
   ]
  },
  {
   "cell_type": "code",
   "execution_count": 2,
   "metadata": {},
   "outputs": [],
   "source": [
    "#export\n",
    "import math\n",
    "from collections import OrderedDict\n",
    "from datetime import date\n",
    "from datetime import datetime as dt\n",
    "from datetime import timedelta\n",
    "from pathlib import Path\n",
    "\n",
    "import cx_Oracle\n",
    "import numpy as np\n",
    "import pandas as pd"
   ]
  },
  {
   "cell_type": "code",
   "execution_count": 3,
   "metadata": {},
   "outputs": [],
   "source": [
    "#export\n",
    "d = {\n",
    "    28: \"2006-01-21T20:35:00\",\n",
    "    29: \"2007-12-09T20:06:00\",\n",
    "    30: \"2009-10-26T19:39:00\",\n",
    "    31: \"2011-09-13T19:12:00\",\n",
    "    32: \"2013-08-01T18:44:00\",\n",
    "    33: \"2015-06-19T18:16:00\",\n",
    "    34: \"2017-05-05T17:48:00\",\n",
    "    35: \"2019-03-24T17:20:00\",\n",
    "    36: \"2021-01-15T16:52:00\",\n",
    "}"
   ]
  },
  {
   "cell_type": "code",
   "execution_count": 4,
   "metadata": {},
   "outputs": [],
   "source": [
    "#export\n",
    "mars_years = OrderedDict(sorted(d.items(), key=lambda t: t[0]))"
   ]
  },
  {
   "cell_type": "code",
   "execution_count": 5,
   "metadata": {},
   "outputs": [],
   "source": [
    "#export\n",
    "tables = [\n",
    "    \"MCS_HEADER_TEST\",\n",
    "    \"MCS_PROFILE_TEST\",\n",
    "    \"MCS_PROFILE_2D\",\n",
    "    \"MCS_HEADER_2D\",\n",
    "    \"MCS_NADIR\",\n",
    "    \"MCS_HEADER\",\n",
    "    \"MCS_PROFILE\",\n",
    "    \"MCS_LIMB\",\n",
    "]"
   ]
  },
  {
   "cell_type": "code",
   "execution_count": 6,
   "metadata": {},
   "outputs": [],
   "source": [
    "#export\n",
    "views = [\"MCS_HEADER_DATA\", \"MCS_PROFILE_DATA\", \"MCS_LIMB_DATA\", \"MCS_NADIR_DATA\"]"
   ]
  },
  {
   "cell_type": "code",
   "execution_count": 7,
   "metadata": {},
   "outputs": [],
   "source": [
    "#export\n",
    "view_dic = {\n",
    "    \"profile\": views[1],\n",
    "    \"header\": views[0],\n",
    "    \"limb\": views[2],\n",
    "    \"nadir\": views[3],\n",
    "}"
   ]
  },
  {
   "cell_type": "code",
   "execution_count": 8,
   "metadata": {},
   "outputs": [],
   "source": [
    "#export\n",
    "def get_MY_bracket(MY):\n",
    "    t1 = mars_years[MY]\n",
    "    t2 = mars_years[MY + 1]\n",
    "    return (t1, t2)"
   ]
  },
  {
   "cell_type": "code",
   "execution_count": 9,
   "metadata": {},
   "outputs": [],
   "source": [
    "#export\n",
    "def get_MY_for_date(date):\n",
    "    \"date: YYYYMMDD\"\n",
    "    for k, v in mars_years.items():\n",
    "        datestr = v.split(\"T\")[0]\n",
    "        datestr = datestr.replace(\"-\", \"\")\n",
    "        if int(date) < int(datestr):\n",
    "            return k - 1"
   ]
  },
  {
   "cell_type": "code",
   "execution_count": 10,
   "metadata": {},
   "outputs": [],
   "source": [
    "#export\n",
    "def mcsdate2datetime(mcsdate):\n",
    "    \"Convert (OBSDATE,OBSTIME) tuple to Python datetime.\"\n",
    "    date, seconds = mcsdate\n",
    "    date = str(date)\n",
    "    yyyy = int(date[:4])\n",
    "    mm = int(date[4:6])\n",
    "    dd = int(date[6:8])\n",
    "    fractionals, intseconds = math.modf(seconds)\n",
    "    hours = int(intseconds // 3600)\n",
    "    minutes = int((intseconds % 3600) // 60)\n",
    "    seconds = int(intseconds % 3600 % 60)\n",
    "    microsecs = int(fractionals * 1e6)\n",
    "    return dt(yyyy, mm, dd, hours, minutes, seconds, microsecs)"
   ]
  },
  {
   "cell_type": "code",
   "execution_count": 11,
   "metadata": {},
   "outputs": [],
   "source": [
    "#export\n",
    "class MarsTimer:\n",
    "    MCS_day_format = \"%Y%m%d\"\n",
    "\n",
    "    def __init__(self):\n",
    "        for k, v in mars_years.items():\n",
    "            setattr(self, f\"MY{k}\", dt.fromisoformat(v))\n",
    "\n",
    "    def get_date_for_Ls(self, Ls, MY):\n",
    "        t = getattr(self, f\"MY{MY}\")\n",
    "        delta = timedelta(days=round(self.calc_ndays_for_Ls(Ls, MY)))\n",
    "        return t + delta\n",
    "\n",
    "    def get_ndays_for_MY(self, MY):\n",
    "        date1 = dt.fromisoformat(mars_years[MY])\n",
    "        date2 = dt.fromisoformat(mars_years[MY + 1])\n",
    "        delta = (date2 - date1).days\n",
    "        return delta\n",
    "\n",
    "    def get_MCS_date_for_Ls(self, Ls, MY):\n",
    "        dt = self.get_date_for_Ls(Ls, MY)\n",
    "        return dt.strftime(self.MCS_day_format)\n",
    "\n",
    "    def calc_ndays_for_Ls(self, Ls, MY):\n",
    "        fraction = Ls / 360\n",
    "        n_days = self.get_ndays_for_MY(MY)\n",
    "        return n_days * fraction\n",
    "\n",
    "    def get_n_MCS_days_later(self, daystring, n=1):\n",
    "        delta_days = timedelta(days=n)\n",
    "        old_date = date(int(daystring[:4]), int(daystring[4:6]), int(daystring[6:]))\n",
    "        new_date = old_date + delta_days\n",
    "        return new_date.strftime(self.MCS_day_format)"
   ]
  },
  {
   "cell_type": "code",
   "execution_count": 12,
   "metadata": {},
   "outputs": [],
   "source": [
    "#export\n",
    "class DateConverter:\n",
    "    \"\"\"Manage UTC ISO datetime to MCS date conversions.\n",
    "\n",
    "    MCS has stored its data in the form of OBSDATE/OBSTIME, with OBSDATE\n",
    "    being an integer in the form YYYYMMDD and OBSTIME in total seconds of\n",
    "    the date (i.e. 0...(3600*24=86,400)).\n",
    "\n",
    "    Parameters\n",
    "    ----------\n",
    "    utcdate : str,datetime\n",
    "        UTC datetime\n",
    "    mcsdate : tuple(int, float)\n",
    "        Tuple of (OBSDATE, OBSTIME)\n",
    "\n",
    "    Attributes\n",
    "    ----------\n",
    "    utcdate : str\n",
    "        Return datetime.isoformat()\n",
    "    mcsdate : tuple\n",
    "        Return datetime converted to MCS OBSDATE,OBSTIME\n",
    "    \"\"\"\n",
    "\n",
    "    OBSDATE_FMT = \"%Y%m%d\"\n",
    "\n",
    "    def __init__(self, utcdate=None, mcsdate=None):\n",
    "        if not any([utcdate, mcsdate]):\n",
    "            raise ValueError(\"One of [utcdate, mcsdate] needs to be defined.\")\n",
    "        if utcdate is not None:\n",
    "            self.datetime = dt.fromisoformat(utcdate)\n",
    "            self._utcdate = utcdate\n",
    "        self._utcdate = utcdate\n",
    "        if mcsdate is not None:\n",
    "            self.datetime = mcsdate2datetime(mcsdate)\n",
    "            self._mcsdate = mcsdate\n",
    "\n",
    "    @property\n",
    "    def utcdate(self):\n",
    "        return self.datetime.isoformat()\n",
    "\n",
    "    @property\n",
    "    def obstime(self):\n",
    "        dt = self.datetime\n",
    "        return dt.hour * 3600 + dt.minute * 60 + dt.second + dt.microsecond / 1e6\n",
    "\n",
    "    @property\n",
    "    def obsdate(self):\n",
    "        return int(self.datetime.strftime(self.OBSDATE_FMT))\n",
    "\n",
    "    @property\n",
    "    def mcsdate(self):\n",
    "        return (self.obsdate, self.obstime)"
   ]
  },
  {
   "cell_type": "code",
   "execution_count": 13,
   "metadata": {},
   "outputs": [],
   "source": [
    "#export\n",
    "def sqlize(self, dic):\n",
    "    \"create SQL condition part from dictionary\"\n",
    "    s = \"\"\n",
    "    for k, v in dic.items():\n",
    "        s += f\"{k}={v} and \"\n",
    "    # cut off last 'and '\n",
    "    return s[:-5]"
   ]
  },
  {
   "cell_type": "code",
   "execution_count": 14,
   "metadata": {},
   "outputs": [],
   "source": [
    "#export\n",
    "class SQLizer:\n",
    "    def __init__(self, columns, view, cond=None):\n",
    "        self.columns = columns + \"obsdate obstime ls\".split()\n",
    "        self.view = view_dic[view]\n",
    "        self.cond = cond\n",
    "        self.condition_started = False\n",
    "        self.bucket = [f\"select {','.join(self.columns)} from {self.view}\"]\n",
    "        if self.cond is not None:\n",
    "            self.bucket.append(f\"where {self.cond}\")\n",
    "            self.condition_started = True\n",
    "\n",
    "    def add_condition(self, condition):\n",
    "        \"Default here is to add conditions with logical AND.\"\n",
    "        first_word = \"and\"\n",
    "        if not self.condition_started:\n",
    "            first_word = \"where\"\n",
    "            self.condition_started = True\n",
    "        self.bucket.append(f\"{first_word} {condition}\")\n",
    "\n",
    "    def add_day_bracket(self, t1, t2):\n",
    "        datecon1 = DateConverter(utcdate=t1)\n",
    "        datecon2 = DateConverter(utcdate=t2)\n",
    "        self.add_condition(f\"obsdate between {datecon1.obsdate} and {datecon2.obsdate}\")\n",
    "\n",
    "    def add_MY_day_bracket(self, MY):\n",
    "        t1, t2 = get_MY_bracket(MY)\n",
    "        self.add_day_bracket(t1, t2)\n",
    "\n",
    "    def add_LS_bracket(self, LS1, LS2):\n",
    "        self.add_condition(f\"LS between {LS1} and {LS2}\")\n",
    "\n",
    "    def add_LAT_bracket(self, lat1, lat2):\n",
    "        self.add_condition(f\"LATITUDE between {lat1} and {lat2}\")\n",
    "\n",
    "    def add_P_bracket(self, p1, p2):\n",
    "        self.add_condition(f\"PRESSURE between {p1} and {p2}\")\n",
    "\n",
    "    def exact_utcdate(self, utcdate):\n",
    "        \"utcdate: YYYYMMDD\"\n",
    "        self.add_condition(f\"obsdate = {utcdate}\")\n",
    "\n",
    "    @property\n",
    "    def sql(self):\n",
    "        return \"\\n\".join(self.bucket)\n",
    "\n",
    "    def __str__(self):\n",
    "        return self.sql\n",
    "\n",
    "    def __repr__(self):\n",
    "        return self.__str__()"
   ]
  },
  {
   "cell_type": "code",
   "execution_count": 16,
   "metadata": {},
   "outputs": [],
   "source": [
    "#export\n",
    "def add_utc_col(df, drop_mcsdate=True):\n",
    "    \"Must have OBSDATE and OBSTIME column.\"\n",
    "    date = pd.to_datetime(df.OBSDATE.astype(str), format=\"%Y%m%d\").astype(\"str\")\n",
    "    fractionals, intseconds = np.modf(df.OBSTIME)\n",
    "    hours = (intseconds // 3600).astype(\"int\").astype(\"str\")\n",
    "    minutes = ((intseconds % 3600) // 60).astype(\"int\").astype(\"str\")\n",
    "    seconds = (intseconds % 3600 % 60).astype(\"int\").astype(\"str\")\n",
    "    microsecs = (fractionals * 1e6).astype(\"int\").astype(\"str\")\n",
    "    newdf = df.assign(\n",
    "        UTC=pd.to_datetime(\n",
    "            date + \" \" + hours + \":\" + minutes + \":\" + seconds + \".\" + microsecs\n",
    "        )\n",
    "    )\n",
    "    if drop_mcsdate:\n",
    "        newdf.drop([\"OBSDATE\", \"OBSTIME\"], axis=\"columns\", inplace=True)\n",
    "    return newdf"
   ]
  },
  {
   "cell_type": "code",
   "execution_count": 17,
   "metadata": {},
   "outputs": [],
   "source": [
    "#export\n",
    "class MCSDB:\n",
    "    inifile = Path.home() / \".mcs_db.ini\"\n",
    "    example_sql = \"\"\"select temperature from mcs_profile_data\n",
    "    where obsdate = 20070101 and obstime = 14486.727\n",
    "    \"\"\"\n",
    "\n",
    "    def __init__(self):\n",
    "        with self.inifile.open() as f:\n",
    "            self.url = f.read().strip()\n",
    "        self.con = cx_Oracle.connect(self.url)\n",
    "\n",
    "    def test_call(self):\n",
    "        return self.query(self.example_sql)\n",
    "\n",
    "    def get_columns(self, table_or_view):\n",
    "        sql = f\"\"\"select * from {table_or_view}\n",
    "        where obsdate = 20070101 and obstime = 14486.727\n",
    "        \"\"\"\n",
    "        return self.query(sql).columns\n",
    "\n",
    "    @property\n",
    "    def header_columns(self):\n",
    "        return pd.Index(sorted(self.get_columns(\"mcs_header_data\")))\n",
    "\n",
    "    @property\n",
    "    def profile_columns(self):\n",
    "        return pd.Index(sorted(self.get_columns(\"mcs_profile_data\")))\n",
    "\n",
    "    @property\n",
    "    def limb_columns(self):\n",
    "        return pd.Index(sorted(self.get_columns(\"mcs_limb_data\")))\n",
    "\n",
    "    @property\n",
    "    def nadir_columns(self):\n",
    "        return pd.Index(sorted(self.get_columns(\"mcs_nadir_data\")))\n",
    "\n",
    "    def query(self, sql):\n",
    "        \"most basic method, using pure SQL, returning pandas DataFrame.\"\n",
    "        try:\n",
    "            return pd.read_sql(sql.sql, self.con)\n",
    "        except AttributeError:\n",
    "            return pd.read_sql(sql, self.con)\n",
    "\n",
    "    def get_cols_by_date(self, cols, datestr):\n",
    "        \"Deprecated. Use get_profile_cols_by_date.\"\n",
    "        sql = f\"select {','.join(cols)} from mcs_data_2d where \"\n",
    "        sql += f\"obsdate = {datestr}\"\n",
    "        print(\"Sending this request:\")\n",
    "        print(sql)\n",
    "        return self.query(sql)\n",
    "\n",
    "    def get_profile_cols_by_date(self, cols, datestr):\n",
    "        \"Deprecated. Use get_profile_cols_by_date.\"\n",
    "        sql = f\"select {','.join(cols)} from mcs_profile_data where \"\n",
    "        sql += f\"obsdate = {datestr}\"\n",
    "        print(\"Sending this request:\")\n",
    "        print(sql)\n",
    "        return self.query(sql)\n",
    "\n",
    "    def get_profile_data(self, cols, cond):\n",
    "        \"\"\"Get data from the MCS profile view.\n",
    "\n",
    "        Parameters\n",
    "        ----------\n",
    "        cols : str, list\n",
    "            Either a comma separated string of column names or a Python list\n",
    "            of columns names, both should work.\n",
    "        cond : str\n",
    "            SQL filtering condition, e.g. 'obsdate = 20070101'\n",
    "\n",
    "        Returns\n",
    "        -------\n",
    "        pd.DataFrame\n",
    "        \"\"\"\n",
    "        if isinstance(cols, list):\n",
    "            cols = \",\".join(cols)\n",
    "        sql = f\"\"\"\n",
    "            select {cols}\n",
    "            from {self.d['profile']}\n",
    "            where {cond}\n",
    "        \"\"\"\n",
    "        return self.query(sql)"
   ]
  },
  {
   "cell_type": "code",
   "execution_count": 18,
   "metadata": {},
   "outputs": [],
   "source": [
    "d = {}"
   ]
  },
  {
   "cell_type": "code",
   "execution_count": 19,
   "metadata": {},
   "outputs": [],
   "source": [
    "d[1, 2] = 'a'"
   ]
  },
  {
   "cell_type": "code",
   "execution_count": 20,
   "metadata": {},
   "outputs": [
    {
     "data": {
      "text/plain": [
       "{(1, 2): 'a'}"
      ]
     },
     "execution_count": 20,
     "metadata": {},
     "output_type": "execute_result"
    }
   ],
   "source": [
    "d"
   ]
  },
  {
   "cell_type": "code",
   "execution_count": null,
   "metadata": {},
   "outputs": [],
   "source": []
  }
 ],
 "metadata": {
  "jupytext": {
   "split_at_heading": true
  },
  "kernelspec": {
   "display_name": "Python 3 (ipykernel)",
   "language": "python",
   "name": "python3"
  },
  "language_info": {
   "codemirror_mode": {
    "name": "ipython",
    "version": 3
   },
   "file_extension": ".py",
   "mimetype": "text/x-python",
   "name": "python",
   "nbconvert_exporter": "python",
   "pygments_lexer": "ipython3",
   "version": "3.8.10"
  }
 },
 "nbformat": 4,
 "nbformat_minor": 4
}
