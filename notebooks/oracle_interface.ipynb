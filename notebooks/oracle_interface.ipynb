{
 "cells": [
  {
   "cell_type": "markdown",
   "metadata": {},
   "source": [
    "# Accessing our LASP MCS database\n",
    "\n",
    "First, if you would like automatic sourcecode formatting, follow instructions here:\n",
    "https://medium.com/openplanetary/code-formatting-in-jupyter-cells-8fee4eda072f"
   ]
  },
  {
   "cell_type": "code",
   "execution_count": 1,
   "metadata": {},
   "outputs": [],
   "source": [
    "# this for source code formatting, not required\n",
    "%load_ext lab_black"
   ]
  },
  {
   "cell_type": "code",
   "execution_count": 2,
   "metadata": {},
   "outputs": [],
   "source": [
    "# import the class definition\n",
    "from pymcs.db_tools import MCSDB"
   ]
  },
  {
   "cell_type": "code",
   "execution_count": 3,
   "metadata": {},
   "outputs": [],
   "source": [
    "# create a class instance\n",
    "# it will automatically connect to the database and keep the connection alive:\n",
    "db = MCSDB()"
   ]
  },
  {
   "cell_type": "code",
   "execution_count": 4,
   "metadata": {},
   "outputs": [
    {
     "data": {
      "text/plain": [
       "<matplotlib.axes._subplots.AxesSubplot at 0x11e926080>"
      ]
     },
     "execution_count": 4,
     "metadata": {},
     "output_type": "execute_result"
    },
    {
     "data": {
      "image/png": "[encoded data removed]",
      "text/plain": [
       "<Figure size 432x288 with 1 Axes>"
      ]
     },
     "metadata": {
      "needs_background": "light"
     },
     "output_type": "display_data"
    }
   ],
   "source": [
    "# execute this quick test query to see if everything works:\n",
    "db.test_call().plot()"
   ]
  },
  {
   "cell_type": "code",
   "execution_count": 5,
   "metadata": {},
   "outputs": [
    {
     "data": {
      "text/plain": [
       "Index(['NLIMB', 'NNADIR', 'TNADIR', 'OBSDATE', 'OBSTIME', 'SCLK', 'LS',\n",
       "       'LOCALTIME', 'SZA', 'SOLARLATITUDE', 'SOLARLONGITUDE', 'ELEVATION',\n",
       "       'AZIMUTH', 'SPACECRAFTLATITUDE', 'SPACECRAFTLONGITUDE',\n",
       "       'SPACECRAFTRADIUS', 'LIMBANGLE', 'SCENELATITUDE', 'SCENELONGITUDE',\n",
       "       'SCENERADIUS', 'SCENEALTITUDE', 'NADIRDATE', 'NADIRTIME', 'NADIRSCLK',\n",
       "       'NADIRLS', 'NADIRLOCALTIME', 'NADIRSZA', 'NADIRSOLARLAT',\n",
       "       'NADIRSOLARLON', 'NADIRELEVATION', 'NADIRAZIMUTH', 'NADIRSCLATITUDE',\n",
       "       'NADIRSCLONGITUDE', 'NADIRSCRADIUS', 'NADIRROTATIONANGLE',\n",
       "       'NADIRLATITUDE', 'NADIRLONGITUDE', 'NADIRRADIUS', 'NADIRALTITUDE',\n",
       "       'SCENESURFACERADIUS', 'SCENEAREOIDRADIUS', 'MARSRADIUS',\n",
       "       'DUST_463_NAD_OD', 'DUST_463_NAD_OD_ERR', 'H2OICE_843_NAD_OD',\n",
       "       'H2OICE_843_NAD_OD_ERR', 'H2OCOLUMN', 'H2OCOLUMNERROR',\n",
       "       'CO2ICE_XXX_NAD_OD', 'CO2ICE_XXX_NAD_OD_ERR', 'SURFACETEMPERATURE',\n",
       "       'SURFACETERROR', 'SURFACETGUESS', 'NEARSURFACET', 'NEARSURFACETERROR',\n",
       "       'NEARSURFACETGUESS', 'SURFACEPRESSURE', 'SURFACEPUNCERTAINTY',\n",
       "       'SURFACEPGUESS', 'RETRIEVEDPALTITUDE', 'RETRIEVEDPRESSURE',\n",
       "       'RETRIEVEDPERROR', 'ALTSURFACETA1', 'ALTSURFTA1ERROR', 'ALTSURFACETA4',\n",
       "       'ALTSURFTA4ERROR', 'ALTSURFACETA5', 'ALTSURFTA5ERROR', 'H2OINTCOLUMN',\n",
       "       'H2OSATALTITUDE', 'PARAMETERA', 'PARAMETERB', 'PARAMETERC',\n",
       "       'PARAMETERD', 'PRESSUREQUAL', 'TEMPERATUREQUAL', 'DUSTQUAL',\n",
       "       'H2OICEQUAL', 'H2OQUAL', 'CO2ICEQUAL', 'RETRIEVALQUAL', 'FILENAME',\n",
       "       'ROW_NUM', 'PRESSURE', 'TEMPERATURE', 'TEMP_ERR', 'DUST', 'DUST_ERR',\n",
       "       'H2OICE', 'H2OICE_ERR', 'H2OVAP', 'H2OVAP_ERR', 'CO2ICE', 'CO2ICE_ERR',\n",
       "       'ALTITUDE', 'LATITUDE', 'LONGITUDE'],\n",
       "      dtype='object')"
      ]
     },
     "execution_count": 5,
     "metadata": {},
     "output_type": "execute_result"
    }
   ],
   "source": [
    "db.get_columns()"
   ]
  },
  {
   "cell_type": "code",
   "execution_count": 6,
   "metadata": {},
   "outputs": [
    {
     "name": "stdout",
     "output_type": "stream",
     "text": [
      "Sending this request:\n",
      "select pressure,temperature,obstime from mcs_data_2d where obsdate = 20070101\n"
     ]
    },
    {
     "data": {
      "text/html": [
       "<div>\n",
       "<style scoped>\n",
       "    .dataframe tbody tr th:only-of-type {\n",
       "        vertical-align: middle;\n",
       "    }\n",
       "\n",
       "    .dataframe tbody tr th {\n",
       "        vertical-align: top;\n",
       "    }\n",
       "\n",
       "    .dataframe thead th {\n",
       "        text-align: right;\n",
       "    }\n",
       "</style>\n",
       "<table border=\"1\" class=\"dataframe\">\n",
       "  <thead>\n",
       "    <tr style=\"text-align: right;\">\n",
       "      <th></th>\n",
       "      <th>PRESSURE</th>\n",
       "      <th>TEMPERATURE</th>\n",
       "      <th>OBSTIME</th>\n",
       "    </tr>\n",
       "  </thead>\n",
       "  <tbody>\n",
       "    <tr>\n",
       "      <th>0</th>\n",
       "      <td>1878.932000</td>\n",
       "      <td>NaN</td>\n",
       "      <td>19.745</td>\n",
       "    </tr>\n",
       "    <tr>\n",
       "      <th>1</th>\n",
       "      <td>1658.152000</td>\n",
       "      <td>NaN</td>\n",
       "      <td>19.745</td>\n",
       "    </tr>\n",
       "    <tr>\n",
       "      <th>2</th>\n",
       "      <td>1463.314000</td>\n",
       "      <td>NaN</td>\n",
       "      <td>19.745</td>\n",
       "    </tr>\n",
       "    <tr>\n",
       "      <th>3</th>\n",
       "      <td>1291.370000</td>\n",
       "      <td>NaN</td>\n",
       "      <td>19.745</td>\n",
       "    </tr>\n",
       "    <tr>\n",
       "      <th>4</th>\n",
       "      <td>1139.630000</td>\n",
       "      <td>NaN</td>\n",
       "      <td>19.745</td>\n",
       "    </tr>\n",
       "    <tr>\n",
       "      <th>...</th>\n",
       "      <td>...</td>\n",
       "      <td>...</td>\n",
       "      <td>...</td>\n",
       "    </tr>\n",
       "    <tr>\n",
       "      <th>265330</th>\n",
       "      <td>0.007002</td>\n",
       "      <td>NaN</td>\n",
       "      <td>86360.836</td>\n",
       "    </tr>\n",
       "    <tr>\n",
       "      <th>265331</th>\n",
       "      <td>0.006179</td>\n",
       "      <td>NaN</td>\n",
       "      <td>86360.836</td>\n",
       "    </tr>\n",
       "    <tr>\n",
       "      <th>265332</th>\n",
       "      <td>0.005453</td>\n",
       "      <td>NaN</td>\n",
       "      <td>86360.836</td>\n",
       "    </tr>\n",
       "    <tr>\n",
       "      <th>265333</th>\n",
       "      <td>0.004812</td>\n",
       "      <td>NaN</td>\n",
       "      <td>86360.836</td>\n",
       "    </tr>\n",
       "    <tr>\n",
       "      <th>265334</th>\n",
       "      <td>0.004247</td>\n",
       "      <td>NaN</td>\n",
       "      <td>86360.836</td>\n",
       "    </tr>\n",
       "  </tbody>\n",
       "</table>\n",
       "<p>265335 rows × 3 columns</p>\n",
       "</div>"
      ],
      "text/plain": [
       "           PRESSURE  TEMPERATURE    OBSTIME\n",
       "0       1878.932000          NaN     19.745\n",
       "1       1658.152000          NaN     19.745\n",
       "2       1463.314000          NaN     19.745\n",
       "3       1291.370000          NaN     19.745\n",
       "4       1139.630000          NaN     19.745\n",
       "...             ...          ...        ...\n",
       "265330     0.007002          NaN  86360.836\n",
       "265331     0.006179          NaN  86360.836\n",
       "265332     0.005453          NaN  86360.836\n",
       "265333     0.004812          NaN  86360.836\n",
       "265334     0.004247          NaN  86360.836\n",
       "\n",
       "[265335 rows x 3 columns]"
      ]
     },
     "execution_count": 6,
     "metadata": {},
     "output_type": "execute_result"
    }
   ],
   "source": [
    "db.get_cols_by_date([\"pressure\", \"temperature\", \"obstime\"], \"20070101\")"
   ]
  },
  {
   "cell_type": "code",
   "execution_count": 7,
   "metadata": {},
   "outputs": [],
   "source": [
    "sql = \"\"\"\n",
    "select temperature, dust, latitude, longitude, obsdate\n",
    "from mcs_data_2d\n",
    "where pressure between 45 and 55\n",
    "and obsdate between 20080830 and 20080920\n",
    "\"\"\""
   ]
  },
  {
   "cell_type": "code",
   "execution_count": 8,
   "metadata": {},
   "outputs": [
    {
     "data": {
      "text/html": [
       "<div>\n",
       "<style scoped>\n",
       "    .dataframe tbody tr th:only-of-type {\n",
       "        vertical-align: middle;\n",
       "    }\n",
       "\n",
       "    .dataframe tbody tr th {\n",
       "        vertical-align: top;\n",
       "    }\n",
       "\n",
       "    .dataframe thead th {\n",
       "        text-align: right;\n",
       "    }\n",
       "</style>\n",
       "<table border=\"1\" class=\"dataframe\">\n",
       "  <thead>\n",
       "    <tr style=\"text-align: right;\">\n",
       "      <th></th>\n",
       "      <th>TEMPERATURE</th>\n",
       "      <th>DUST</th>\n",
       "      <th>LATITUDE</th>\n",
       "      <th>LONGITUDE</th>\n",
       "      <th>OBSDATE</th>\n",
       "    </tr>\n",
       "  </thead>\n",
       "  <tbody>\n",
       "    <tr>\n",
       "      <th>0</th>\n",
       "      <td>172.334</td>\n",
       "      <td>2.156700e-05</td>\n",
       "      <td>45.969</td>\n",
       "      <td>-157.800</td>\n",
       "      <td>20080830</td>\n",
       "    </tr>\n",
       "    <tr>\n",
       "      <th>1</th>\n",
       "      <td>174.031</td>\n",
       "      <td>5.589400e-04</td>\n",
       "      <td>24.131</td>\n",
       "      <td>-128.308</td>\n",
       "      <td>20080830</td>\n",
       "    </tr>\n",
       "    <tr>\n",
       "      <th>2</th>\n",
       "      <td>170.915</td>\n",
       "      <td>NaN</td>\n",
       "      <td>22.567</td>\n",
       "      <td>-128.536</td>\n",
       "      <td>20080830</td>\n",
       "    </tr>\n",
       "    <tr>\n",
       "      <th>3</th>\n",
       "      <td>167.967</td>\n",
       "      <td>NaN</td>\n",
       "      <td>21.041</td>\n",
       "      <td>-128.758</td>\n",
       "      <td>20080830</td>\n",
       "    </tr>\n",
       "    <tr>\n",
       "      <th>4</th>\n",
       "      <td>169.668</td>\n",
       "      <td>NaN</td>\n",
       "      <td>19.421</td>\n",
       "      <td>-128.986</td>\n",
       "      <td>20080830</td>\n",
       "    </tr>\n",
       "    <tr>\n",
       "      <th>...</th>\n",
       "      <td>...</td>\n",
       "      <td>...</td>\n",
       "      <td>...</td>\n",
       "      <td>...</td>\n",
       "      <td>...</td>\n",
       "    </tr>\n",
       "    <tr>\n",
       "      <th>58219</th>\n",
       "      <td>175.493</td>\n",
       "      <td>1.085100e-05</td>\n",
       "      <td>-46.731</td>\n",
       "      <td>82.409</td>\n",
       "      <td>20080920</td>\n",
       "    </tr>\n",
       "    <tr>\n",
       "      <th>58220</th>\n",
       "      <td>174.798</td>\n",
       "      <td>3.376900e-07</td>\n",
       "      <td>-48.373</td>\n",
       "      <td>82.067</td>\n",
       "      <td>20080920</td>\n",
       "    </tr>\n",
       "    <tr>\n",
       "      <th>58221</th>\n",
       "      <td>175.659</td>\n",
       "      <td>1.000000e-09</td>\n",
       "      <td>-50.020</td>\n",
       "      <td>81.723</td>\n",
       "      <td>20080920</td>\n",
       "    </tr>\n",
       "    <tr>\n",
       "      <th>58222</th>\n",
       "      <td>175.550</td>\n",
       "      <td>NaN</td>\n",
       "      <td>-51.670</td>\n",
       "      <td>81.358</td>\n",
       "      <td>20080920</td>\n",
       "    </tr>\n",
       "    <tr>\n",
       "      <th>58223</th>\n",
       "      <td>173.606</td>\n",
       "      <td>NaN</td>\n",
       "      <td>-53.333</td>\n",
       "      <td>80.968</td>\n",
       "      <td>20080920</td>\n",
       "    </tr>\n",
       "  </tbody>\n",
       "</table>\n",
       "<p>58224 rows × 5 columns</p>\n",
       "</div>"
      ],
      "text/plain": [
       "       TEMPERATURE          DUST  LATITUDE  LONGITUDE   OBSDATE\n",
       "0          172.334  2.156700e-05    45.969   -157.800  20080830\n",
       "1          174.031  5.589400e-04    24.131   -128.308  20080830\n",
       "2          170.915           NaN    22.567   -128.536  20080830\n",
       "3          167.967           NaN    21.041   -128.758  20080830\n",
       "4          169.668           NaN    19.421   -128.986  20080830\n",
       "...            ...           ...       ...        ...       ...\n",
       "58219      175.493  1.085100e-05   -46.731     82.409  20080920\n",
       "58220      174.798  3.376900e-07   -48.373     82.067  20080920\n",
       "58221      175.659  1.000000e-09   -50.020     81.723  20080920\n",
       "58222      175.550           NaN   -51.670     81.358  20080920\n",
       "58223      173.606           NaN   -53.333     80.968  20080920\n",
       "\n",
       "[58224 rows x 5 columns]"
      ]
     },
     "execution_count": 8,
     "metadata": {},
     "output_type": "execute_result"
    }
   ],
   "source": [
    "df = db.query(sql)\n",
    "df"
   ]
  },
  {
   "cell_type": "code",
   "execution_count": 9,
   "metadata": {},
   "outputs": [],
   "source": [
    "%matplotlib widget"
   ]
  },
  {
   "cell_type": "code",
   "execution_count": 10,
   "metadata": {},
   "outputs": [
    {
     "data": {
      "application/vnd.jupyter.widget-view+json": {
       "model_id": "024f2baf34f84cbebf3a5b6723a58530",
       "version_major": 2,
       "version_minor": 0
      },
      "text/plain": [
       "Canvas(toolbar=Toolbar(toolitems=[('Home', 'Reset original view', 'home', 'home'), ('Back', 'Back to previous …"
      ]
     },
     "metadata": {},
     "output_type": "display_data"
    },
    {
     "data": {
      "text/plain": [
       "<matplotlib.axes._subplots.AxesSubplot at 0x11e918be0>"
      ]
     },
     "execution_count": 10,
     "metadata": {},
     "output_type": "execute_result"
    }
   ],
   "source": [
    "df.TEMPERATURE.plot()"
   ]
  },
  {
   "cell_type": "code",
   "execution_count": null,
   "metadata": {},
   "outputs": [],
   "source": []
  }
 ],
 "metadata": {
  "kernelspec": {
   "display_name": "Python [conda env:py37] *",
   "language": "python",
   "name": "conda-env-py37-py"
  },
  "language_info": {
   "codemirror_mode": {
    "name": "ipython",
    "version": 3
   },
   "file_extension": ".py",
   "mimetype": "text/x-python",
   "name": "python",
   "nbconvert_exporter": "python",
   "pygments_lexer": "ipython3",
   "version": "3.7.3"
  },
  "widgets": {
   "application/vnd.jupyter.widget-state+json": {
    "state": {
     "6a5c651e1ff04ad79c35c8cbb1844115": {
      "model_module": "@jupyter-widgets/base",
      "model_module_version": "1.2.0",
      "model_name": "LayoutModel",
      "state": {}
     },
     "9cf82772b375413ea0f9d26a8154ded2": {
      "model_module": "@jupyter-widgets/base",
      "model_module_version": "1.2.0",
      "model_name": "LayoutModel",
      "state": {}
     }
    },
    "version_major": 2,
    "version_minor": 0
   }
  }
 },
 "nbformat": 4,
 "nbformat_minor": 4
}
